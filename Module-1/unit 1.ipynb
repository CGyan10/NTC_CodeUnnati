{
 "cells": [
  {
   "cell_type": "code",
   "execution_count": 4,
   "id": "e13e78d7",
   "metadata": {},
   "outputs": [
    {
     "name": "stdout",
     "output_type": "stream",
     "text": [
      "10 equal to 2 * 5\n",
      "11 is a prime number\n",
      "12 equal to 2 * 6\n",
      "13 is a prime number\n",
      "14 equal to 2 * 7\n",
      "15 is a prime number\n",
      "16 equal to 2 * 8\n",
      "17 is a prime number\n",
      "18 equal to 2 * 9\n",
      "19 is a prime number\n"
     ]
    }
   ],
   "source": [
    "for num in range(10,20):\n",
    "    for i in range(2,num):\n",
    "        if num%i == 0:\n",
    "            j=num/i\n",
    "            print('%d equal to %d * %d' %(num,i,j))\n",
    "            break\n",
    "        else:\n",
    "            print(num, \"is a prime number\")\n",
    "            break"
   ]
  },
  {
   "cell_type": "code",
   "execution_count": 6,
   "id": "2db4f27c",
   "metadata": {},
   "outputs": [
    {
     "data": {
      "text/plain": [
       "3.141592653589793"
      ]
     },
     "execution_count": 6,
     "metadata": {},
     "output_type": "execute_result"
    }
   ],
   "source": [
    "from math import pi\n",
    "pi"
   ]
  },
  {
   "cell_type": "code",
   "execution_count": 7,
   "id": "e298f45d",
   "metadata": {},
   "outputs": [
    {
     "data": {
      "text/plain": [
       "3.141592653589793"
      ]
     },
     "execution_count": 7,
     "metadata": {},
     "output_type": "execute_result"
    }
   ],
   "source": [
    "pi"
   ]
  },
  {
   "cell_type": "code",
   "execution_count": 9,
   "id": "1a0e34d2",
   "metadata": {},
   "outputs": [
    {
     "data": {
      "text/plain": [
       "314.1592653589793"
      ]
     },
     "execution_count": 9,
     "metadata": {},
     "output_type": "execute_result"
    }
   ],
   "source": [
    "# find the area of circle\n",
    "\n",
    "raduious  = 10\n",
    "Area = pi*raduious*raduious\n",
    "Area"
   ]
  },
  {
   "cell_type": "markdown",
   "id": "7f3096af",
   "metadata": {},
   "source": [
    "# conditional statement"
   ]
  },
  {
   "cell_type": "code",
   "execution_count": 14,
   "id": "0cea62c4",
   "metadata": {},
   "outputs": [
    {
     "name": "stdout",
     "output_type": "stream",
     "text": [
      "0  is Zero\n"
     ]
    }
   ],
   "source": [
    "#if statement\n",
    "\n",
    "num = 0\n",
    "if num>=0:\n",
    "    if num == 0:\n",
    "        print(num, ' is Zero')\n",
    "    else:\n",
    "        print(num, 'is positive number')\n",
    "else:\n",
    "    print(num, 'is Negetive number')"
   ]
  },
  {
   "cell_type": "markdown",
   "id": "6b70b190",
   "metadata": {},
   "source": [
    "# calculator"
   ]
  },
  {
   "cell_type": "code",
   "execution_count": 4,
   "id": "5469ecb8",
   "metadata": {},
   "outputs": [
    {
     "name": "stdout",
     "output_type": "stream",
     "text": [
      "Select operation\n",
      "1. Addition\n",
      "2. Subtract\n",
      "3. Multiply\n",
      "4. Divide\n",
      "Enter choice (1/2/3/4): 3\n",
      "Enter the first Number: 2\n",
      "Enter the Second Number: 3\n",
      "2 * 3 = 6\n"
     ]
    }
   ],
   "source": [
    "#create function for each operation\n",
    "\n",
    "#this function add two number\n",
    "\n",
    "def add(x,y):\n",
    "    return x+y\n",
    "\n",
    "#this function substraction two number\n",
    "\n",
    "def subtract(x,y):\n",
    "    return x-y\n",
    "\n",
    "#this function multiply two number\n",
    "\n",
    "def multiply(x,y):\n",
    "    return x*y\n",
    "\n",
    "#this function divide two number\n",
    "\n",
    "def divide(x,y):\n",
    "    return x/y\n",
    "\n",
    "print(\"Select operation\")\n",
    "print(\"1. Addition\")\n",
    "print(\"2. Subtract\")\n",
    "print(\"3. Multiply\")\n",
    "print(\"4. Divide\")\n",
    "\n",
    "choice = input(\"Enter choice (1/2/3/4): \")\n",
    "\n",
    "num1 = int(input(\"Enter the first Number: \"))\n",
    "num2 = int(input(\"Enter the Second Number: \"))\n",
    "\n",
    "if choice == '1':\n",
    "    print(num1, '+',num2,'=', add(num1,num2))\n",
    "elif choice == '2':\n",
    "    print(num1, '-',num2,'=', subtract(num1,num2))\n",
    "elif choice == '3':\n",
    "    print(num1, '*',num2,'=', multiply(num1,num2))\n",
    "elif choice == '4':\n",
    "    print(num1, '/',num2,'=', divide(num1,num2))\n",
    "else:\n",
    "    print(\"Invalide Input\")"
   ]
  },
  {
   "cell_type": "code",
   "execution_count": null,
   "id": "11f25aac",
   "metadata": {},
   "outputs": [],
   "source": []
  }
 ],
 "metadata": {
  "kernelspec": {
   "display_name": "Python 3 (ipykernel)",
   "language": "python",
   "name": "python3"
  },
  "language_info": {
   "codemirror_mode": {
    "name": "ipython",
    "version": 3
   },
   "file_extension": ".py",
   "mimetype": "text/x-python",
   "name": "python",
   "nbconvert_exporter": "python",
   "pygments_lexer": "ipython3",
   "version": "3.9.12"
  }
 },
 "nbformat": 4,
 "nbformat_minor": 5
}
